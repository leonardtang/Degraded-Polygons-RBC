{
 "cells": [
  {
   "cell_type": "code",
   "execution_count": null,
   "metadata": {},
   "outputs": [],
   "source": [
    "# Create shapes dataset\n",
    "# Remove corners from each shape and save to new folder\n",
    "# Remove edges from each shape and save to new folder"
   ]
  },
  {
   "cell_type": "code",
   "execution_count": 18,
   "metadata": {},
   "outputs": [],
   "source": [
    "import cv2\n",
    "import numpy as np\n",
    "import os\n",
    "import math\n",
    "\n",
    "classes = [1, 3, 4, 5, 6, 7, 8]\n",
    "num_per_class = 2\n",
    "imgsize = 200\n",
    "min_radius = 20\n",
    "thickness = 2\n",
    "bg_color = (255, 255, 255)\n",
    "fg_color = (0, 0, 0)\n",
    "saveto = \"./images/shapes/\"\n",
    "corner_hide = 0 # Fraction of shape radius, such that a circle of bg_color will be drawn around each corner with this radius to hide the corner\n",
    "edge_hide = 0.3 # Fraction of shape radius, such that a circle of bg_color will be drawn around center of each edge with this radius to hide the edge\n",
    "\n",
    "for side in classes:\n",
    "    for k in range(num_per_class):\n",
    "        suffix = 'whole' # Save image with suffix to indicate corner_hide, edge_hide, or whole\n",
    "        # Create a blank image\n",
    "        img = np.zeros((imgsize, imgsize, 3), np.uint8)\n",
    "        img[:] = bg_color\n",
    "        # Randomly select a point on the image\n",
    "        x = np.random.randint(min_radius + math.ceil(thickness/2) + 1, imgsize-min_radius - math.ceil(thickness/2))\n",
    "        y = np.random.randint(min_radius + math.ceil(thickness/2) + 1, imgsize-min_radius - math.ceil(thickness/2))\n",
    "        # Get max radius of polygon\n",
    "        max_radius = min(x, y, imgsize - x, imgsize - y)\n",
    "        # Randomly select a radius\n",
    "        radius = np.random.randint(min_radius, max_radius)\n",
    "        # Randomly choose a starting angle\n",
    "        angle = np.random.randint(0, 360)\n",
    "        angle = angle * np.pi / 180 # Convert to radians\n",
    "        # Get list of points in polar coordinates\n",
    "        if side > 2:\n",
    "            angles = [angle + 2 * np.pi * i / side for i in range(side)]\n",
    "            points = np.array([(x + radius * np.cos(angle), y + radius * np.sin(angle)) for angle in angles], np.int32)\n",
    "            # Draw polygon\n",
    "            img = cv2.polylines(img, [points], True, fg_color, thickness)\n",
    "            # Hide corners, if requested\n",
    "            if corner_hide > 0:\n",
    "                suffix = 'corner_hide'\n",
    "                for i in range(side):\n",
    "                    cv2.circle(img, (points[i][0], points[i][1]), math.ceil(corner_hide * radius), bg_color, -1)\n",
    "            # Hide edges, if requested\n",
    "            if edge_hide > 0:\n",
    "                suffix = 'edge_hide'\n",
    "                for i in range(side):\n",
    "                    cv2.circle(img, (int((points[i][0] + points[(i + 1) % side][0]) / 2), int((points[i][1] + points[(i + 1) % side][1]) / 2)), math.ceil(edge_hide * radius), bg_color, -1)\n",
    "        elif side == 1:\n",
    "            # Draw circle\n",
    "            img = cv2.circle(img, (x, y), radius, fg_color, thickness)\n",
    "        else:\n",
    "            print(\"Invalid side number\")\n",
    "        # Save image\n",
    "        cv2.imwrite(f'{saveto}{side}_{k}_{suffix}.png', img)"
   ]
  }
 ],
 "metadata": {
  "kernelspec": {
   "display_name": "Python 3.10.7 ('_NAP': venv)",
   "language": "python",
   "name": "python3"
  },
  "language_info": {
   "codemirror_mode": {
    "name": "ipython",
    "version": 3
   },
   "file_extension": ".py",
   "mimetype": "text/x-python",
   "name": "python",
   "nbconvert_exporter": "python",
   "pygments_lexer": "ipython3",
   "version": "3.10.7"
  },
  "orig_nbformat": 4,
  "vscode": {
   "interpreter": {
    "hash": "79def0c0aeed0307f0b7b7c13e84f80aa4409d9b4e442ea2e585af93b299d2b2"
   }
  }
 },
 "nbformat": 4,
 "nbformat_minor": 2
}
